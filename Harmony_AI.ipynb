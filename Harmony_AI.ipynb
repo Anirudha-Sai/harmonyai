{
  "cells": [
    {
      "cell_type": "code",
      "execution_count": null,
      "metadata": {
        "collapsed": true,
        "id": "pl2zpgegopzy"
      },
      "outputs": [],
      "source": [
        "#step-1\n",
        "!pip install flask pyngrok\n",
        "!pip install pydub\n",
        "!pip install flask-cors\n"
      ]
    },
    {
      "cell_type": "code",
      "execution_count": null,
      "metadata": {
        "id": "pkkrU8ox0hnw"
      },
      "outputs": [],
      "source": [
        "# 1. Cleanly reinstall numpy\n",
        "!pip install numpy==1.26.4 --force-reinstall\n",
        "\n",
        "# 2. Install compatible TensorFlow and TensorBoard\n",
        "!pip install tensorflow==2.15.0 tensorboard==2.15.1\n",
        "\n",
        "# 3. (Optional) If you're using audiocraft (MusicGen)\n",
        "!pip install -U git+https://github.com/facebookresearch/audiocraft\n",
        "\n",
        "# 4. Other stuff you might need\n",
        "!pip install flask flask-cors pyngrok pydub requests\n"
      ]
    },
    {
      "cell_type": "code",
      "execution_count": null,
      "metadata": {
        "collapsed": true,
        "id": "oacb1lW-orzo"
      },
      "outputs": [],
      "source": [
        "#step-3\n",
        "from flask import Flask, request, send_file,Response\n",
        "from audiocraft.models import musicgen\n",
        "from audiocraft.utils.notebook import display_audio\n",
        "import torch\n",
        "import tempfile\n",
        "import os\n",
        "from pyngrok import ngrok\n",
        "import io\n",
        "from pyngrok import ngrok\n",
        "\n"
      ]
    },
    {
      "cell_type": "code",
      "execution_count": null,
      "metadata": {
        "collapsed": true,
        "id": "DuvxgVSh0Wkv"
      },
      "outputs": [],
      "source": [
        "!ngrok config add-authtoken '2s6uFeC6pTxNdVGPQdSoRbhr9c1_6PeaKNh87o5j8vEsyx4or'\n"
      ]
    },
    {
      "cell_type": "code",
      "execution_count": null,
      "metadata": {
        "colab": {
          "background_save": true,
          "base_uri": "https://localhost:8080/"
        },
        "id": "NS0lcn1F2j0s",
        "outputId": "b3c789b6-5485-433d-89f0-c448753bee1d"
      },
      "outputs": [
        {
          "metadata": {
            "tags": null
          },
          "name": "stdout",
          "output_type": "stream",
          "text": [
            "Colab Public URL: https://8625-34-16-143-147.ngrok-free.app\n",
            "Successfully updated the fixed backend server with the Colab ngrok URL.\n"
          ]
        },
        {
          "metadata": {
            "tags": null
          },
          "name": "stderr",
          "output_type": "stream",
          "text": [
            "/usr/local/lib/python3.11/dist-packages/audiocraft/models/musicgen.py:83: UserWarning: MusicGen pretrained model relying on deprecated checkpoint mapping. Please use full pre-trained id instead: facebook/musicgen-melody\n",
            "  warnings.warn(\n",
            "/usr/local/lib/python3.11/dist-packages/torch/nn/utils/weight_norm.py:30: UserWarning: torch.nn.utils.weight_norm is deprecated in favor of torch.nn.utils.parametrizations.weight_norm.\n",
            "  warnings.warn(\"torch.nn.utils.weight_norm is deprecated in favor of torch.nn.utils.parametrizations.weight_norm.\")\n"
          ]
        },
        {
          "metadata": {
            "tags": null
          },
          "name": "stdout",
          "output_type": "stream",
          "text": [
            " * Serving Flask app '__main__'\n",
            " * Debug mode: off\n"
          ]
        },
        {
          "metadata": {
            "tags": null
          },
          "name": "stderr",
          "output_type": "stream",
          "text": [
            "INFO:werkzeug:\u001b[31m\u001b[1mWARNING: This is a development server. Do not use it in a production deployment. Use a production WSGI server instead.\u001b[0m\n",
            " * Running on http://127.0.0.1:8000\n",
            "INFO:werkzeug:\u001b[33mPress CTRL+C to quit\u001b[0m\n",
            "INFO:werkzeug:127.0.0.1 - - [11/Apr/2025 10:49:33] \"OPTIONS /generate HTTP/1.1\" 200 -\n",
            "INFO:werkzeug:127.0.0.1 - - [11/Apr/2025 10:49:56] \"POST /generate HTTP/1.1\" 200 -\n"
          ]
        }
      ],
      "source": [
        "import numpy as np\n",
        "import logging\n",
        "from flask import Flask, request, jsonify\n",
        "from flask_cors import CORS, cross_origin\n",
        "from pyngrok import ngrok\n",
        "import base64\n",
        "import requests\n",
        "\n",
        "# Initialize Flask app\n",
        "app = Flask(__name__)\n",
        "logging.basicConfig(level=logging.DEBUG)\n",
        "\n",
        "# Enable CORS\n",
        "CORS(app, resources={r\"/*\": {\"origins\": \"*\"}})\n",
        "\n",
        "# Set up ngrok tunnel\n",
        "port = 8000\n",
        "public_url = ngrok.connect(port).public_url\n",
        "print(f\"Colab Public URL: {public_url}\")\n",
        "\n",
        "# Send the ngrok URL to the fixed backend server\n",
        "fixed_backend_url = \"https://3caf-2400-3680-10b-66-f55b-681-8ec4-cbe.ngrok-free.app/\"  # Replace with your backend's fixed URL\n",
        "try:\n",
        "    response = requests.post(f\"{fixed_backend_url}/update_colab_ngrok_url\", json={\"colabNgrokUrl\": public_url})\n",
        "    if response.ok:\n",
        "        print(\"Successfully updated the fixed backend server with the Colab ngrok URL.\")\n",
        "    else:\n",
        "        print(f\"Failed to update the backend server: {response.status_code}, {response.text}\")\n",
        "except Exception as e:\n",
        "    print(f\"Error sending ngrok URL to backend server: {e}\")\n",
        "\n",
        "# Load the MusicGen model\n",
        "model = musicgen.MusicGen.get_pretrained('melody', device='cuda')\n",
        "model.set_generation_params(duration=30)  # Default duration\n",
        "\n",
        "@app.route('/generate', methods=['POST', 'OPTIONS'])\n",
        "@cross_origin()\n",
        "def generate_music():\n",
        "    if request.method == 'OPTIONS':\n",
        "        return jsonify({\"message\": \"CORS preflight successful\"}), 200\n",
        "\n",
        "    data = request.json\n",
        "    description = data.get(\"description\", \"\")\n",
        "    duration = int(data.get(\"time\", 30))  # Default duration to 30 if not provided\n",
        "\n",
        "    if not description or not duration:\n",
        "        return jsonify({\"error\": \"Description and time are required!\"}), 400\n",
        "\n",
        "    try:\n",
        "        logging.info(f\"Generating music with description: {description} and duration: {duration}\")\n",
        "\n",
        "        # Dynamically set the duration before generating music\n",
        "        model.set_generation_params(duration=duration)\n",
        "\n",
        "        res = model.generate([description], progress=False)\n",
        "\n",
        "        # Convert tensor to NumPy array and then bytes\n",
        "        audio_array = res[0].cpu().numpy()\n",
        "        audio_bytes = audio_array.astype(np.float32).tobytes()\n",
        "\n",
        "        # Send audio to the backend server\n",
        "        def send_audio_to_server(audio, sample_rate):\n",
        "            audio_base64 = base64.b64encode(audio).decode('utf-8')\n",
        "            url = f\"{fixed_backend_url}/upload_audio\"\n",
        "            data = {\n",
        "                'audio': audio_base64,\n",
        "                'sample_rate': sample_rate\n",
        "            }\n",
        "            response = requests.post(url, json=data)\n",
        "            return response.json()\n",
        "\n",
        "        response = send_audio_to_server(audio_bytes, 32000)\n",
        "        logging.info(f\"Response from backend server: {response}\")\n",
        "\n",
        "        return jsonify(response), 200\n",
        "\n",
        "    except Exception as e:\n",
        "        logging.error(f\"Error generating music: {str(e)}\")\n",
        "        return jsonify({\"error\": f\"Error generating music: {str(e)}\"}), 500\n",
        "\n",
        "app.run(port=port)\n"
      ]
    }
  ],
  "metadata": {
    "accelerator": "GPU",
    "colab": {
      "gpuType": "T4",
      "provenance": []
    },
    "kernelspec": {
      "display_name": "Python 3",
      "name": "python3"
    },
    "language_info": {
      "name": "python"
    }
  },
  "nbformat": 4,
  "nbformat_minor": 0
}